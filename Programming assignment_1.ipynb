{
 "cells": [
  {
   "cell_type": "code",
   "execution_count": 1,
   "metadata": {},
   "outputs": [],
   "source": [
    "#1) Write a Python Program to print \"Hello Python\"?\n"
   ]
  },
  {
   "cell_type": "code",
   "execution_count": 2,
   "metadata": {},
   "outputs": [
    {
     "name": "stdout",
     "output_type": "stream",
     "text": [
      "Hello Python\n"
     ]
    }
   ],
   "source": [
    "print(\"Hello Python\")"
   ]
  },
  {
   "cell_type": "code",
   "execution_count": 3,
   "metadata": {},
   "outputs": [],
   "source": [
    "#2) Write a Python Program to do arithmetical operations (addition and division)"
   ]
  },
  {
   "cell_type": "code",
   "execution_count": 5,
   "metadata": {},
   "outputs": [
    {
     "name": "stdout",
     "output_type": "stream",
     "text": [
      "type a number that is integer 1: 12\n",
      "type a number that is integer 2: 2\n",
      "type 1 for addition, type 2 for division: 2\n",
      "6.0\n"
     ]
    }
   ],
   "source": [
    "number1 = int(input(\"type a number that is integer 1: \"))\n",
    "number2 = int(input(\"type a number that is integer 2: \"))\n",
    "operation = input(\"type 1 for addition, type 2 for division: \")\n",
    "\n",
    "if operation == 1:\n",
    "    total = number1 + number2\n",
    "    print(total)\n",
    "else:\n",
    "    total = number1 / number2\n",
    "    print(total)\n",
    "    \n",
    "    \n"
   ]
  },
  {
   "cell_type": "code",
   "execution_count": 6,
   "metadata": {},
   "outputs": [],
   "source": [
    "#3) Write a Python program to find the area of a triangle?"
   ]
  },
  {
   "cell_type": "code",
   "execution_count": 9,
   "metadata": {},
   "outputs": [
    {
     "name": "stdout",
     "output_type": "stream",
     "text": [
      "type the base of the triangle: 5\n",
      "type the height of the triangle: 6\n",
      "the are of the triangle is =  15.0\n"
     ]
    }
   ],
   "source": [
    "b = int(input(\"type the base of the triangle: \"))\n",
    "h = int(input(\"type the height of the triangle: \"))\n",
    "area = (1/2)*(b)*(h)\n",
    "print(\"the are of the triangle is = \", area)"
   ]
  },
  {
   "cell_type": "code",
   "execution_count": 10,
   "metadata": {},
   "outputs": [],
   "source": [
    "#4) Write a Python Program to swap two variables !"
   ]
  },
  {
   "cell_type": "code",
   "execution_count": 16,
   "metadata": {},
   "outputs": [
    {
     "name": "stdout",
     "output_type": "stream",
     "text": [
      "khaled Ayman \n",
      "Ayman khaled \n"
     ]
    }
   ],
   "source": [
    "first_name = \"khaled \"\n",
    "last_name = \"Ayman \"\n",
    "print(first_name + last_name)\n",
    "\n",
    "x = first_name\n",
    "first_name = last_name\n",
    "last_name = x\n",
    "print(first_name + last_name)"
   ]
  },
  {
   "cell_type": "code",
   "execution_count": 17,
   "metadata": {},
   "outputs": [],
   "source": [
    "#5) Write a program to generate a random number !"
   ]
  },
  {
   "cell_type": "code",
   "execution_count": 19,
   "metadata": {},
   "outputs": [
    {
     "name": "stdout",
     "output_type": "stream",
     "text": [
      "[5, 6, 7, 0, 2, 1, 8, 3, 9, 4]\n"
     ]
    }
   ],
   "source": [
    "poo = [0,1,2,3,4,5,6,7,8,9]\n",
    "import random\n",
    "random.shuffle(poo)\n",
    "print(poo)"
   ]
  },
  {
   "cell_type": "code",
   "execution_count": null,
   "metadata": {},
   "outputs": [],
   "source": []
  }
 ],
 "metadata": {
  "kernelspec": {
   "display_name": "Python 3",
   "language": "python",
   "name": "python3"
  },
  "language_info": {
   "codemirror_mode": {
    "name": "ipython",
    "version": 3
   },
   "file_extension": ".py",
   "mimetype": "text/x-python",
   "name": "python",
   "nbconvert_exporter": "python",
   "pygments_lexer": "ipython3",
   "version": "3.8.5"
  }
 },
 "nbformat": 4,
 "nbformat_minor": 4
}
